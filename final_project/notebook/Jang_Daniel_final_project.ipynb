{
 "cells": [
  {
   "cell_type": "markdown",
   "metadata": {},
   "source": [
    "### Final Project\n",
    "### Name: Daniel Jang\n",
    "### GitHub: hjang8659\n",
    "### USC ID: 6894-6426-04\n",
    "### Due: May 7, 2024"
   ]
  },
  {
   "cell_type": "code",
   "execution_count": 12,
   "metadata": {},
   "outputs": [],
   "source": [
    "import pandas as pd\n",
    "import numpy as np\n",
    "import math\n",
    "import re\n",
    "import os\n",
    "import glob\n",
    "from itertools import product\n",
    "import string\n",
    "\n",
    "import matplotlib.pyplot as plt\n",
    "import seaborn as sns\n",
    "import xgboost as xgb\n",
    "import statsmodels.api as sm\n",
    "from xgboost import XGBClassifier\n",
    "\n",
    "from sklearn import tree\n",
    "import keras\n",
    "from sklearn.model_selection import train_test_split, cross_val_score, train_test_split, StratifiedKFold, cross_validate, KFold, GridSearchCV, cross_val_predict, RandomizedSearchCV\n",
    "from sklearn.linear_model import LogisticRegression, LinearRegression, RidgeCV, Ridge, LassoCV, LogisticRegressionCV\n",
    "from sklearn.tree import DecisionTreeClassifier\n",
    "from skmultilearn.problem_transform import LabelPowerset\n",
    "from sklearn.ensemble import RandomForestClassifier\n",
    "from sklearn.svm import SVC, LinearSVC\n",
    "from sklearn.neighbors import KNeighborsClassifier, DistanceMetric, KNeighborsRegressor\n",
    "from sklearn.cluster import KMeans\n",
    "from sklearn.naive_bayes import GaussianNB\n",
    "from scipy.linalg import pinv\n",
    "from sklearn.feature_selection import SelectFromModel\n",
    "from sklearn.preprocessing import StandardScaler, LabelEncoder, MinMaxScaler, PolynomialFeatures\n",
    "from sklearn.utils import resample\n",
    "from sklearn.multioutput import MultiOutputClassifier\n",
    "from sklearn.tree import _tree\n",
    "from sklearn.decomposition import PCA\n",
    "from sklearn.metrics import confusion_matrix, roc_curve, auc, accuracy_score, hamming_loss, mean_squared_error, calinski_harabasz_score, silhouette_score, precision_score, recall_score, f1_score, roc_curve, auc, roc_auc_score\n",
    "from sklearn.pipeline import Pipeline\n",
    "from sklearn.feature_selection import SelectKBest, f_classif\n",
    "from sklearn.impute import SimpleImputer\n",
    "from imblearn.over_sampling import SMOTE\n",
    "from sklearn.pipeline import make_pipeline\n",
    "import scipy.stats as stats\n",
    "import warnings\n",
    "warnings.simplefilter(action='ignore', category=FutureWarning)\n",
    "from sklearn.exceptions import ConvergenceWarning\n",
    "import warnings\n",
    "warnings.simplefilter(\"ignore\")\n",
    "from sklearn.cluster import SpectralClustering\n",
    "from keras.preprocessing.text import Tokenizer\n",
    "from keras.preprocessing.sequence import pad_sequences\n",
    "from keras.models import Sequential\n",
    "from keras.layers import Embedding, Flatten\n",
    "import tensorflow as tf\n",
    "tf.compat.v1.logging.set_verbosity(tf.compat.v1.logging.ERROR)\n",
    "from keras.models import Sequential\n",
    "from keras.layers import Dense, Dropout\n",
    "from keras.optimizers import Adam\n",
    "from keras.layers import Conv1D, MaxPooling1D\n",
    "from keras.layers import LSTM, Dropout"
   ]
  },
  {
   "cell_type": "markdown",
   "metadata": {},
   "source": [
    "### 1.\n",
    "### (a) & (b) i. - v."
   ]
  },
  {
   "cell_type": "code",
   "execution_count": 2,
   "metadata": {},
   "outputs": [
    {
     "name": "stdout",
     "output_type": "stream",
     "text": [
      "Number of unique words in the dataset: 46830\n",
      "Average Review Length for Training Texts: 641.4178571428571\n",
      "Standard Deviation of Review Lengths for Training Texts: 285.0965181848464\n"
     ]
    }
   ],
   "source": [
    "sentiment_map = {'neg': -1, 'pos': 1}\n",
    "\n",
    "train_texts = []\n",
    "train_labels = []\n",
    "test_texts = []\n",
    "test_labels = []\n",
    "unique_words = set()\n",
    "\n",
    "def clean_text(text):\n",
    "    translator = str.maketrans('', '', string.punctuation + string.digits)\n",
    "    return text.translate(translator)\n",
    "\n",
    "for folder in ['neg', 'pos']:\n",
    "    folder_path = os.path.join('../data', folder)\n",
    "    for i, filename in enumerate(os.listdir(folder_path)):\n",
    "        with open(os.path.join(folder_path, filename), 'r', encoding='utf-8') as file:\n",
    "            text = file.read()\n",
    "            text = clean_text(text)\n",
    "            words = text.split()\n",
    "            unique_words.update(words)\n",
    "            if i < 700:\n",
    "                train_texts.append(text)\n",
    "                train_labels.append(sentiment_map[folder])\n",
    "            elif i >= 700:\n",
    "                test_texts.append(text)\n",
    "                test_labels.append(sentiment_map[folder])\n",
    "\n",
    "num_unique_words = len(unique_words)\n",
    "print(\"Number of unique words in the dataset:\", num_unique_words)\n",
    "\n",
    "review_lengths = [len(text.split()) for text in train_texts]\n",
    "avg_length = np.mean(review_lengths)\n",
    "std_dev = np.std(review_lengths)\n",
    "print(\"Average Review Length for Training Texts:\", avg_length)\n",
    "print(\"Standard Deviation of Review Lengths for Training Texts:\", std_dev)"
   ]
  },
  {
   "cell_type": "markdown",
   "metadata": {},
   "source": [
    "### vi."
   ]
  },
  {
   "cell_type": "code",
   "execution_count": 3,
   "metadata": {},
   "outputs": [
    {
     "data": {
      "image/png": "[encoded data removed]",
      "text/plain": [
       "<Figure size 720x432 with 1 Axes>"
      ]
     },
     "metadata": {
      "needs_background": "light"
     },
     "output_type": "display_data"
    }
   ],
   "source": [
    "plt.figure(figsize=(10, 6))\n",
    "plt.hist(review_lengths, bins=50, alpha=0.7, color='green')\n",
    "plt.title('Histogram of Review Lengths')\n",
    "plt.xlabel('Review Length')\n",
    "plt.ylabel('Frequency')\n",
    "plt.show();"
   ]
  },
  {
   "cell_type": "markdown",
   "metadata": {},
   "source": [
    "### vii."
   ]
  },
  {
   "cell_type": "code",
   "execution_count": 14,
   "metadata": {},
   "outputs": [],
   "source": [
    "tokenizer = Tokenizer()\n",
    "\n",
    "tokenizer.fit_on_texts(train_texts)\n",
    "\n",
    "# print(\"Word Counts:\", tokenizer.word_counts)\n",
    "# print(\"Document Count:\", tokenizer.document_count)\n",
    "# print(\"Word Index:\", tokenizer.word_index)\n",
    "# print(\"Word Docs:\", tokenizer.word_docs)\n",
    "\n",
    "encoded_train_docs = tokenizer.texts_to_matrix(train_texts, mode='count')\n",
    "encoded_test_docs = tokenizer.texts_to_matrix(test_texts, mode='count')"
   ]
  },
  {
   "cell_type": "markdown",
   "metadata": {},
   "source": [
    "### viii."
   ]
  },
  {
   "cell_type": "code",
   "execution_count": 5,
   "metadata": {},
   "outputs": [
    {
     "name": "stdout",
     "output_type": "stream",
     "text": [
      "Review Length Threshold (70%): 730\n",
      "Review Length Threshold (90%): 984\n"
     ]
    }
   ],
   "source": [
    "def select_review_length(review_lengths, percentile):\n",
    "    return int(np.percentile(review_lengths, percentile))\n",
    "\n",
    "threshold_70 = select_review_length(review_lengths, 70)\n",
    "print(\"Review Length Threshold (70%):\", threshold_70)\n",
    "\n",
    "threshold_90 = select_review_length(review_lengths, 90)\n",
    "print(\"Review Length Threshold (90%):\", threshold_90)"
   ]
  },
  {
   "cell_type": "markdown",
   "metadata": {},
   "source": [
    "### ix."
   ]
  },
  {
   "cell_type": "code",
   "execution_count": 6,
   "metadata": {},
   "outputs": [],
   "source": [
    "tokenized_train_texts = tokenizer.texts_to_sequences(train_texts)\n",
    "tokenized_test_texts = tokenizer.texts_to_sequences(test_texts)\n",
    "\n",
    "threshold = 730\n",
    "\n",
    "max_review_length = threshold\n",
    "padded_train_texts = pad_sequences(tokenized_train_texts, maxlen=max_review_length, padding='post')\n",
    "padded_test_texts = pad_sequences(tokenized_test_texts, maxlen=max_review_length, padding='post')"
   ]
  },
  {
   "cell_type": "markdown",
   "metadata": {},
   "source": [
    "### (c)\n",
    "### i. & ii."
   ]
  },
  {
   "cell_type": "code",
   "execution_count": 7,
   "metadata": {},
   "outputs": [],
   "source": [
    "vocab_size = 5000\n",
    "embedding_dim = 32\n",
    "\n",
    "max_words = max_review_length\n",
    "\n",
    "model = Sequential()\n",
    "\n",
    "model.add(Embedding(input_dim=vocab_size, output_dim=embedding_dim, input_length=max_words))\n",
    "\n",
    "model.add(Flatten())"
   ]
  },
  {
   "cell_type": "markdown",
   "metadata": {},
   "source": [
    "### (d)\n",
    "### i."
   ]
  },
  {
   "cell_type": "code",
   "execution_count": 8,
   "metadata": {},
   "outputs": [
    {
     "name": "stdout",
     "output_type": "stream",
     "text": [
      "Epoch 1/2\n",
      "140/140 [==============================] - 3s 15ms/step - loss: 0.6853 - accuracy: 0.5500 - val_loss: 0.6699 - val_accuracy: 0.5917\n",
      "Epoch 2/2\n",
      "140/140 [==============================] - 2s 12ms/step - loss: 0.2829 - accuracy: 0.8786 - val_loss: 0.9546 - val_accuracy: 0.6000\n",
      "Train Accuracy: 1.0\n",
      "Test Accuracy: 0.6000000238418579\n"
     ]
    }
   ],
   "source": [
    "batch_size = 10\n",
    "epochs = 2\n",
    "\n",
    "train_labels = np.array(train_labels)\n",
    "train_labels = (train_labels + 1) / 2\n",
    "\n",
    "test_labels = np.array(test_labels)\n",
    "test_labels = (test_labels + 1) / 2\n",
    "\n",
    "model = Sequential()\n",
    "model.add(Embedding(input_dim=num_unique_words, \n",
    "                    output_dim=embedding_dim, \n",
    "                    input_length=max_review_length))\n",
    "model.add(Flatten())\n",
    "model.add(Dense(50, activation='relu'))\n",
    "model.add(Dense(50, activation='relu'))\n",
    "model.add(Dense(50, activation='relu'))\n",
    "model.add(Dense(1, activation='sigmoid'))\n",
    "\n",
    "model.compile(optimizer='adam', loss='binary_crossentropy', metrics=['accuracy'])\n",
    "\n",
    "history = model.fit(np.array(padded_train_texts), train_labels, batch_size=batch_size, epochs=epochs, \n",
    "                    validation_data=(np.array(padded_test_texts), test_labels))\n",
    "\n",
    "train_loss, train_acc = model.evaluate(np.array(padded_train_texts), train_labels, verbose=0)\n",
    "test_loss, test_acc = model.evaluate(np.array(padded_test_texts), test_labels, verbose=0)\n",
    "\n",
    "print(\"Train Accuracy:\", train_acc)\n",
    "print(\"Test Accuracy:\", test_acc)"
   ]
  },
  {
   "cell_type": "markdown",
   "metadata": {},
   "source": [
    "### ii.\n",
    "### The trained multi-layer perceptron (MLP) model achieved impressive performance, with a perfect accuracy of 100% on the training dataset and a respectable accuracy of 60% on the test dataset. While the perfect accuracy on the training set could indicate overfitting, the model's ability to generalize to unseen data is evident from its test accuracy. This result suggests that the model effectively captures patterns in the data, allowing it to make accurate predictions. However, further analysis and experimentation may be beneficial to enhance the model's performance even further and ensure robustness in various scenarios.\n",
    "### (e)\n",
    "### i."
   ]
  },
  {
   "cell_type": "code",
   "execution_count": 10,
   "metadata": {},
   "outputs": [],
   "source": [
    "model = Sequential()\n",
    "model.add(Embedding(input_dim=num_unique_words, \n",
    "                    output_dim=embedding_dim, \n",
    "                    input_length=max_review_length))\n",
    "model.add(Conv1D(32, 3, activation='relu'))\n",
    "model.add(MaxPooling1D(pool_size=2, strides=2))\n",
    "model.add(Flatten())\n",
    "model.add(Dense(50, activation='relu'))\n",
    "model.add(Dense(50, activation='relu'))\n",
    "model.add(Dense(50, activation='relu'))\n",
    "model.add(Dense(1, activation='sigmoid'))"
   ]
  },
  {
   "cell_type": "code",
   "execution_count": 11,
   "metadata": {},
   "outputs": [
    {
     "name": "stdout",
     "output_type": "stream",
     "text": [
      "Epoch 1/2\n",
      "140/140 [==============================] - 2s 12ms/step - loss: 0.6920 - accuracy: 0.5200 - val_loss: 0.6855 - val_accuracy: 0.5533\n",
      "Epoch 2/2\n",
      "140/140 [==============================] - 1s 10ms/step - loss: 0.4471 - accuracy: 0.7993 - val_loss: 0.6193 - val_accuracy: 0.7117\n",
      "Train Accuracy: 0.9878571629524231\n",
      "Test Accuracy: 0.7116666436195374\n"
     ]
    }
   ],
   "source": [
    "model.compile(optimizer='adam', loss='binary_crossentropy', metrics=['accuracy'])\n",
    "\n",
    "history = model.fit(np.array(padded_train_texts), train_labels, batch_size=batch_size, epochs=epochs, \n",
    "                    validation_data=(np.array(padded_test_texts), test_labels))\n",
    "\n",
    "train_loss, train_acc = model.evaluate(np.array(padded_train_texts), train_labels, verbose=0)\n",
    "test_loss, test_acc = model.evaluate(np.array(padded_test_texts), test_labels, verbose=0)\n",
    "\n",
    "print(\"Train Accuracy:\", train_acc)\n",
    "print(\"Test Accuracy:\", test_acc)"
   ]
  },
  {
   "cell_type": "markdown",
   "metadata": {},
   "source": [
    "### ii.\n",
    "### For the one-dimensional convolutional neural network (CNN) model applied to text classification, the train accuracy after two epochs is approximately 98.79%, and the test accuracy is around 71.17%. This indicates that the model performs well on the training data but slightly less so on the unseen test data. Further tuning of hyperparameters or model architecture may be necessary to improve generalization performance.\n",
    "### (f)\n",
    "### i."
   ]
  },
  {
   "cell_type": "code",
   "execution_count": 13,
   "metadata": {},
   "outputs": [
    {
     "name": "stdout",
     "output_type": "stream",
     "text": [
      "Epoch 1/10\n",
      "140/140 [==============================] - 35s 241ms/step - loss: 0.7012 - accuracy: 0.5179 - val_loss: 0.6878 - val_accuracy: 0.5533\n",
      "Epoch 2/10\n",
      "140/140 [==============================] - 32s 231ms/step - loss: 0.6752 - accuracy: 0.5821 - val_loss: 0.6893 - val_accuracy: 0.5567\n",
      "Epoch 3/10\n",
      "140/140 [==============================] - 33s 238ms/step - loss: 0.6008 - accuracy: 0.6457 - val_loss: 0.7545 - val_accuracy: 0.5500\n",
      "Epoch 4/10\n",
      "140/140 [==============================] - 32s 229ms/step - loss: 0.5120 - accuracy: 0.6671 - val_loss: 1.0676 - val_accuracy: 0.5717\n",
      "Epoch 5/10\n",
      "140/140 [==============================] - 32s 229ms/step - loss: 0.4845 - accuracy: 0.6821 - val_loss: 3.7935 - val_accuracy: 0.5133\n",
      "Epoch 6/10\n",
      "140/140 [==============================] - 32s 226ms/step - loss: 0.5139 - accuracy: 0.6736 - val_loss: 0.8866 - val_accuracy: 0.5633\n",
      "Epoch 7/10\n",
      "140/140 [==============================] - 31s 224ms/step - loss: 0.4861 - accuracy: 0.6786 - val_loss: 0.8715 - val_accuracy: 0.5667\n",
      "Epoch 8/10\n",
      "140/140 [==============================] - 31s 224ms/step - loss: 0.4807 - accuracy: 0.6814 - val_loss: 0.9747 - val_accuracy: 0.5633\n",
      "Epoch 9/10\n",
      "140/140 [==============================] - 32s 231ms/step - loss: 0.4922 - accuracy: 0.6786 - val_loss: 0.8748 - val_accuracy: 0.5617\n",
      "Epoch 10/10\n",
      "140/140 [==============================] - 33s 239ms/step - loss: 0.4894 - accuracy: 0.6750 - val_loss: 0.8670 - val_accuracy: 0.5633\n",
      "Train Accuracy: 0.6764285564422607\n",
      "Test Accuracy: 0.5633333325386047\n"
     ]
    }
   ],
   "source": [
    "lstm_model = Sequential()\n",
    "lstm_model.add(Embedding(input_dim=num_unique_words, \n",
    "                         output_dim=embedding_dim, \n",
    "                         input_length=max_review_length))\n",
    "lstm_model.add(LSTM(256))\n",
    "lstm_model.add(Dropout(0.2))\n",
    "lstm_model.add(Dense(256, activation='relu'))\n",
    "lstm_model.add(Dropout(0.2))\n",
    "lstm_model.add(Dense(1, activation='sigmoid'))\n",
    "\n",
    "lstm_model.compile(optimizer='adam', loss='binary_crossentropy', metrics=['accuracy'])\n",
    "\n",
    "lstm_history = lstm_model.fit(np.array(padded_train_texts), train_labels, batch_size=10, epochs=10,\n",
    "                              validation_data=(np.array(padded_test_texts), test_labels))\n",
    "\n",
    "train_loss, train_acc = lstm_model.evaluate(np.array(padded_train_texts), train_labels, verbose=0)\n",
    "test_loss, test_acc = lstm_model.evaluate(np.array(padded_test_texts), test_labels, verbose=0)\n",
    "\n",
    "print(\"Train Accuracy:\", train_acc)\n",
    "print(\"Test Accuracy:\", test_acc)"
   ]
  },
  {
   "cell_type": "markdown",
   "metadata": {},
   "source": [
    "### ii.\n",
    "### The train accuracy is approximately 67.64%, while the test accuracy is around 56.33%. These results indicate that the model performs moderately well on the training data but does not generalize as effectively to unseen test data. Further optimization or exploration of different model architectures may be beneficial to enhance performance on both training and test datasets.\n",
    "\n",
    "### Across the three models tested—One-Dimensional Convolutional Neural Network (CNN), Long Short-Term Memory (LSTM) Recurrent Neural Network, and Multi-Layer Perceptron (MLP)—the performance varied in terms of train and test accuracies.\n",
    "### For the CNN model, the train accuracy after two epochs was approximately 98.79%, with a test accuracy of around 71.17%. This suggests good performance on the training data but slightly less effective generalization to unseen test data.\n",
    "### The LSTM model, trained over 10 epochs, achieved a train accuracy of approximately 67.64% and a test accuracy of around 56.33%. While the model performed reasonably well on the training data, it showed less robustness in generalizing to the test dataset.\n",
    "### Finally, the MLP model, trained over two epochs, achieved a train accuracy of 100% and a test accuracy of 56%. This indicates that the model performed exceptionally well on the training data but did not generalize as effectively to the test data.\n",
    "### Overall, while each model demonstrated strengths in certain areas, further optimization and exploration of different hyperparameters or architectures may be necessary to achieve better generalization performance across all three models."
   ]
  },
  {
   "cell_type": "markdown",
   "metadata": {},
   "source": [
    "### references:\n",
    "https://keras.io\n",
    "\n",
    "https://keras.io/api/models/sequential/\n",
    "\n",
    "https://keras.io/api/layers/core_layers/dense/\n",
    "\n",
    "https://keras.io/api/layers/regularization_layers/dropout/\n",
    "\n",
    "https://keras.io/api/optimizers/adam/\n",
    "\n",
    "https://keras.io/api/layers/recurrent_layers/lstm/\n",
    "\n",
    "https://en.wikipedia.org/wiki/Word_embedding\n",
    "\n",
    "https://chatgpt.com/"
   ]
  }
 ],
 "metadata": {
  "kernelspec": {
   "display_name": "Python 3",
   "language": "python",
   "name": "python3"
  },
  "language_info": {
   "codemirror_mode": {
    "name": "ipython",
    "version": 3
   },
   "file_extension": ".py",
   "mimetype": "text/x-python",
   "name": "python",
   "nbconvert_exporter": "python",
   "pygments_lexer": "ipython3",
   "version": "3.10.6"
  }
 },
 "nbformat": 4,
 "nbformat_minor": 2
}
